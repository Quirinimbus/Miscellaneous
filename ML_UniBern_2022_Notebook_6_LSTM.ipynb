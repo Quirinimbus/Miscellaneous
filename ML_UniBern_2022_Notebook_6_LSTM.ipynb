{
  "nbformat": 4,
  "nbformat_minor": 0,
  "metadata": {
    "kernelspec": {
      "display_name": "Python 3",
      "language": "python",
      "name": "python3"
    },
    "language_info": {
      "codemirror_mode": {
        "name": "ipython",
        "version": 3
      },
      "file_extension": ".py",
      "mimetype": "text/x-python",
      "name": "python",
      "nbconvert_exporter": "python",
      "pygments_lexer": "ipython3",
      "version": "3.7.7"
    },
    "colab": {
      "provenance": [],
      "collapsed_sections": [],
      "include_colab_link": true
    }
  },
  "cells": [
    {
      "cell_type": "markdown",
      "metadata": {
        "id": "view-in-github",
        "colab_type": "text"
      },
      "source": [
        "<a href=\"https://colab.research.google.com/github/Quirinimbus/Miscellaneous/blob/main/ML_UniBern_2022_Notebook_6_LSTM.ipynb\" target=\"_parent\"><img src=\"https://colab.research.google.com/assets/colab-badge.svg\" alt=\"Open In Colab\"/></a>"
      ]
    },
    {
      "cell_type": "markdown",
      "metadata": {
        "id": "nbrg5XYiYkDE"
      },
      "source": [
        "# Notebook 6 - LSTM for time series data with Keras\n",
        "\n",
        "In this exercise we want to build a simple Long Short Term Memory (LSTM) model to make forecasts for time series data. In particular, we will try to predict the Bitcoin price.\n",
        "\n",
        "If you prefer an example from meteorology, you can take a look at the Keras example at https://keras.io/examples/timeseries/timeseries_weather_forecasting/. There, you will find some convenient \"tricks\" that we won't cover here, for example how to write data generators for time series models."
      ]
    },
    {
      "cell_type": "code",
      "metadata": {
        "id": "YRycEIWrYkDJ"
      },
      "source": [
        "# import packages\n",
        "import pandas as pd\n",
        "import seaborn as sns\n",
        "import matplotlib.pyplot as plt\n",
        "import numpy as np\n",
        "from sklearn.metrics import mean_absolute_error\n",
        "import tensorflow as tf\n",
        "from tensorflow.keras.models import Sequential\n",
        "from tensorflow.keras.layers import Activation, Dense\n",
        "from tensorflow.keras.layers import LSTM\n",
        "from tensorflow.keras.layers import Dropout"
      ],
      "execution_count": 1,
      "outputs": []
    },
    {
      "cell_type": "markdown",
      "metadata": {
        "id": "zZUx3NmDYkDK"
      },
      "source": [
        "Here, we will use the data from the BW Sync&Share folder. The original dataset is available at https://www.kaggle.com/sudalairajkumar/cryptocurrencypricehistory, from which we will use the market history of Bitcoin. There is also data on Ethereum available on BW Sync&Share, which you may use to build some more advanced models."
      ]
    },
    {
      "cell_type": "markdown",
      "metadata": {
        "id": "8K_VwagIZEKu"
      },
      "source": [
        "To work on Google Colab, we need to upload the relevant csv file(s). You can read more about how to do this on https://colab.research.google.com/notebooks/io.ipynb. \n",
        "\n",
        "Here, we will use one of the most simple options and upload the relevant file(s) from our local computer. Execute the next cell and click on \"Browse\", then select the `coin_Bitcoin.csv` file you downloaded from BW Sync&Share.\n",
        "\n",
        "**Note:** This step may not work on Firefox. "
      ]
    },
    {
      "cell_type": "code",
      "metadata": {
        "id": "jrL6aycyY3sf",
        "colab": {
          "base_uri": "https://localhost:8080/",
          "height": 73,
          "resources": {
            "http://localhost:8080/nbextensions/google.colab/files.js": {
              "data": "Ly8gQ29weXJpZ2h0IDIwMTcgR29vZ2xlIExMQwovLwovLyBMaWNlbnNlZCB1bmRlciB0aGUgQXBhY2hlIExpY2Vuc2UsIFZlcnNpb24gMi4wICh0aGUgIkxpY2Vuc2UiKTsKLy8geW91IG1heSBub3QgdXNlIHRoaXMgZmlsZSBleGNlcHQgaW4gY29tcGxpYW5jZSB3aXRoIHRoZSBMaWNlbnNlLgovLyBZb3UgbWF5IG9idGFpbiBhIGNvcHkgb2YgdGhlIExpY2Vuc2UgYXQKLy8KLy8gICAgICBodHRwOi8vd3d3LmFwYWNoZS5vcmcvbGljZW5zZXMvTElDRU5TRS0yLjAKLy8KLy8gVW5sZXNzIHJlcXVpcmVkIGJ5IGFwcGxpY2FibGUgbGF3IG9yIGFncmVlZCB0byBpbiB3cml0aW5nLCBzb2Z0d2FyZQovLyBkaXN0cmlidXRlZCB1bmRlciB0aGUgTGljZW5zZSBpcyBkaXN0cmlidXRlZCBvbiBhbiAiQVMgSVMiIEJBU0lTLAovLyBXSVRIT1VUIFdBUlJBTlRJRVMgT1IgQ09ORElUSU9OUyBPRiBBTlkgS0lORCwgZWl0aGVyIGV4cHJlc3Mgb3IgaW1wbGllZC4KLy8gU2VlIHRoZSBMaWNlbnNlIGZvciB0aGUgc3BlY2lmaWMgbGFuZ3VhZ2UgZ292ZXJuaW5nIHBlcm1pc3Npb25zIGFuZAovLyBsaW1pdGF0aW9ucyB1bmRlciB0aGUgTGljZW5zZS4KCi8qKgogKiBAZmlsZW92ZXJ2aWV3IEhlbHBlcnMgZm9yIGdvb2dsZS5jb2xhYiBQeXRob24gbW9kdWxlLgogKi8KKGZ1bmN0aW9uKHNjb3BlKSB7CmZ1bmN0aW9uIHNwYW4odGV4dCwgc3R5bGVBdHRyaWJ1dGVzID0ge30pIHsKICBjb25zdCBlbGVtZW50ID0gZG9jdW1lbnQuY3JlYXRlRWxlbWVudCgnc3BhbicpOwogIGVsZW1lbnQudGV4dENvbnRlbnQgPSB0ZXh0OwogIGZvciAoY29uc3Qga2V5IG9mIE9iamVjdC5rZXlzKHN0eWxlQXR0cmlidXRlcykpIHsKICAgIGVsZW1lbnQuc3R5bGVba2V5XSA9IHN0eWxlQXR0cmlidXRlc1trZXldOwogIH0KICByZXR1cm4gZWxlbWVudDsKfQoKLy8gTWF4IG51bWJlciBvZiBieXRlcyB3aGljaCB3aWxsIGJlIHVwbG9hZGVkIGF0IGEgdGltZS4KY29uc3QgTUFYX1BBWUxPQURfU0laRSA9IDEwMCAqIDEwMjQ7CgpmdW5jdGlvbiBfdXBsb2FkRmlsZXMoaW5wdXRJZCwgb3V0cHV0SWQpIHsKICBjb25zdCBzdGVwcyA9IHVwbG9hZEZpbGVzU3RlcChpbnB1dElkLCBvdXRwdXRJZCk7CiAgY29uc3Qgb3V0cHV0RWxlbWVudCA9IGRvY3VtZW50LmdldEVsZW1lbnRCeUlkKG91dHB1dElkKTsKICAvLyBDYWNoZSBzdGVwcyBvbiB0aGUgb3V0cHV0RWxlbWVudCB0byBtYWtlIGl0IGF2YWlsYWJsZSBmb3IgdGhlIG5leHQgY2FsbAogIC8vIHRvIHVwbG9hZEZpbGVzQ29udGludWUgZnJvbSBQeXRob24uCiAgb3V0cHV0RWxlbWVudC5zdGVwcyA9IHN0ZXBzOwoKICByZXR1cm4gX3VwbG9hZEZpbGVzQ29udGludWUob3V0cHV0SWQpOwp9CgovLyBUaGlzIGlzIHJvdWdobHkgYW4gYXN5bmMgZ2VuZXJhdG9yIChub3Qgc3VwcG9ydGVkIGluIHRoZSBicm93c2VyIHlldCksCi8vIHdoZXJlIHRoZXJlIGFyZSBtdWx0aXBsZSBhc3luY2hyb25vdXMgc3RlcHMgYW5kIHRoZSBQeXRob24gc2lkZSBpcyBnb2luZwovLyB0byBwb2xsIGZvciBjb21wbGV0aW9uIG9mIGVhY2ggc3RlcC4KLy8gVGhpcyB1c2VzIGEgUHJvbWlzZSB0byBibG9jayB0aGUgcHl0aG9uIHNpZGUgb24gY29tcGxldGlvbiBvZiBlYWNoIHN0ZXAsCi8vIHRoZW4gcGFzc2VzIHRoZSByZXN1bHQgb2YgdGhlIHByZXZpb3VzIHN0ZXAgYXMgdGhlIGlucHV0IHRvIHRoZSBuZXh0IHN0ZXAuCmZ1bmN0aW9uIF91cGxvYWRGaWxlc0NvbnRpbnVlKG91dHB1dElkKSB7CiAgY29uc3Qgb3V0cHV0RWxlbWVudCA9IGRvY3VtZW50LmdldEVsZW1lbnRCeUlkKG91dHB1dElkKTsKICBjb25zdCBzdGVwcyA9IG91dHB1dEVsZW1lbnQuc3RlcHM7CgogIGNvbnN0IG5leHQgPSBzdGVwcy5uZXh0KG91dHB1dEVsZW1lbnQubGFzdFByb21pc2VWYWx1ZSk7CiAgcmV0dXJuIFByb21pc2UucmVzb2x2ZShuZXh0LnZhbHVlLnByb21pc2UpLnRoZW4oKHZhbHVlKSA9PiB7CiAgICAvLyBDYWNoZSB0aGUgbGFzdCBwcm9taXNlIHZhbHVlIHRvIG1ha2UgaXQgYXZhaWxhYmxlIHRvIHRoZSBuZXh0CiAgICAvLyBzdGVwIG9mIHRoZSBnZW5lcmF0b3IuCiAgICBvdXRwdXRFbGVtZW50Lmxhc3RQcm9taXNlVmFsdWUgPSB2YWx1ZTsKICAgIHJldHVybiBuZXh0LnZhbHVlLnJlc3BvbnNlOwogIH0pOwp9CgovKioKICogR2VuZXJhdG9yIGZ1bmN0aW9uIHdoaWNoIGlzIGNhbGxlZCBiZXR3ZWVuIGVhY2ggYXN5bmMgc3RlcCBvZiB0aGUgdXBsb2FkCiAqIHByb2Nlc3MuCiAqIEBwYXJhbSB7c3RyaW5nfSBpbnB1dElkIEVsZW1lbnQgSUQgb2YgdGhlIGlucHV0IGZpbGUgcGlja2VyIGVsZW1lbnQuCiAqIEBwYXJhbSB7c3RyaW5nfSBvdXRwdXRJZCBFbGVtZW50IElEIG9mIHRoZSBvdXRwdXQgZGlzcGxheS4KICogQHJldHVybiB7IUl0ZXJhYmxlPCFPYmplY3Q+fSBJdGVyYWJsZSBvZiBuZXh0IHN0ZXBzLgogKi8KZnVuY3Rpb24qIHVwbG9hZEZpbGVzU3RlcChpbnB1dElkLCBvdXRwdXRJZCkgewogIGNvbnN0IGlucHV0RWxlbWVudCA9IGRvY3VtZW50LmdldEVsZW1lbnRCeUlkKGlucHV0SWQpOwogIGlucHV0RWxlbWVudC5kaXNhYmxlZCA9IGZhbHNlOwoKICBjb25zdCBvdXRwdXRFbGVtZW50ID0gZG9jdW1lbnQuZ2V0RWxlbWVudEJ5SWQob3V0cHV0SWQpOwogIG91dHB1dEVsZW1lbnQuaW5uZXJIVE1MID0gJyc7CgogIGNvbnN0IHBpY2tlZFByb21pc2UgPSBuZXcgUHJvbWlzZSgocmVzb2x2ZSkgPT4gewogICAgaW5wdXRFbGVtZW50LmFkZEV2ZW50TGlzdGVuZXIoJ2NoYW5nZScsIChlKSA9PiB7CiAgICAgIHJlc29sdmUoZS50YXJnZXQuZmlsZXMpOwogICAgfSk7CiAgfSk7CgogIGNvbnN0IGNhbmNlbCA9IGRvY3VtZW50LmNyZWF0ZUVsZW1lbnQoJ2J1dHRvbicpOwogIGlucHV0RWxlbWVudC5wYXJlbnRFbGVtZW50LmFwcGVuZENoaWxkKGNhbmNlbCk7CiAgY2FuY2VsLnRleHRDb250ZW50ID0gJ0NhbmNlbCB1cGxvYWQnOwogIGNvbnN0IGNhbmNlbFByb21pc2UgPSBuZXcgUHJvbWlzZSgocmVzb2x2ZSkgPT4gewogICAgY2FuY2VsLm9uY2xpY2sgPSAoKSA9PiB7CiAgICAgIHJlc29sdmUobnVsbCk7CiAgICB9OwogIH0pOwoKICAvLyBXYWl0IGZvciB0aGUgdXNlciB0byBwaWNrIHRoZSBmaWxlcy4KICBjb25zdCBmaWxlcyA9IHlpZWxkIHsKICAgIHByb21pc2U6IFByb21pc2UucmFjZShbcGlja2VkUHJvbWlzZSwgY2FuY2VsUHJvbWlzZV0pLAogICAgcmVzcG9uc2U6IHsKICAgICAgYWN0aW9uOiAnc3RhcnRpbmcnLAogICAgfQogIH07CgogIGNhbmNlbC5yZW1vdmUoKTsKCiAgLy8gRGlzYWJsZSB0aGUgaW5wdXQgZWxlbWVudCBzaW5jZSBmdXJ0aGVyIHBpY2tzIGFyZSBub3QgYWxsb3dlZC4KICBpbnB1dEVsZW1lbnQuZGlzYWJsZWQgPSB0cnVlOwoKICBpZiAoIWZpbGVzKSB7CiAgICByZXR1cm4gewogICAgICByZXNwb25zZTogewogICAgICAgIGFjdGlvbjogJ2NvbXBsZXRlJywKICAgICAgfQogICAgfTsKICB9CgogIGZvciAoY29uc3QgZmlsZSBvZiBmaWxlcykgewogICAgY29uc3QgbGkgPSBkb2N1bWVudC5jcmVhdGVFbGVtZW50KCdsaScpOwogICAgbGkuYXBwZW5kKHNwYW4oZmlsZS5uYW1lLCB7Zm9udFdlaWdodDogJ2JvbGQnfSkpOwogICAgbGkuYXBwZW5kKHNwYW4oCiAgICAgICAgYCgke2ZpbGUudHlwZSB8fCAnbi9hJ30pIC0gJHtmaWxlLnNpemV9IGJ5dGVzLCBgICsKICAgICAgICBgbGFzdCBtb2RpZmllZDogJHsKICAgICAgICAgICAgZmlsZS5sYXN0TW9kaWZpZWREYXRlID8gZmlsZS5sYXN0TW9kaWZpZWREYXRlLnRvTG9jYWxlRGF0ZVN0cmluZygpIDoKICAgICAgICAgICAgICAgICAgICAgICAgICAgICAgICAgICAgJ24vYSd9IC0gYCkpOwogICAgY29uc3QgcGVyY2VudCA9IHNwYW4oJzAlIGRvbmUnKTsKICAgIGxpLmFwcGVuZENoaWxkKHBlcmNlbnQpOwoKICAgIG91dHB1dEVsZW1lbnQuYXBwZW5kQ2hpbGQobGkpOwoKICAgIGNvbnN0IGZpbGVEYXRhUHJvbWlzZSA9IG5ldyBQcm9taXNlKChyZXNvbHZlKSA9PiB7CiAgICAgIGNvbnN0IHJlYWRlciA9IG5ldyBGaWxlUmVhZGVyKCk7CiAgICAgIHJlYWRlci5vbmxvYWQgPSAoZSkgPT4gewogICAgICAgIHJlc29sdmUoZS50YXJnZXQucmVzdWx0KTsKICAgICAgfTsKICAgICAgcmVhZGVyLnJlYWRBc0FycmF5QnVmZmVyKGZpbGUpOwogICAgfSk7CiAgICAvLyBXYWl0IGZvciB0aGUgZGF0YSB0byBiZSByZWFkeS4KICAgIGxldCBmaWxlRGF0YSA9IHlpZWxkIHsKICAgICAgcHJvbWlzZTogZmlsZURhdGFQcm9taXNlLAogICAgICByZXNwb25zZTogewogICAgICAgIGFjdGlvbjogJ2NvbnRpbnVlJywKICAgICAgfQogICAgfTsKCiAgICAvLyBVc2UgYSBjaHVua2VkIHNlbmRpbmcgdG8gYXZvaWQgbWVzc2FnZSBzaXplIGxpbWl0cy4gU2VlIGIvNjIxMTU2NjAuCiAgICBsZXQgcG9zaXRpb24gPSAwOwogICAgZG8gewogICAgICBjb25zdCBsZW5ndGggPSBNYXRoLm1pbihmaWxlRGF0YS5ieXRlTGVuZ3RoIC0gcG9zaXRpb24sIE1BWF9QQVlMT0FEX1NJWkUpOwogICAgICBjb25zdCBjaHVuayA9IG5ldyBVaW50OEFycmF5KGZpbGVEYXRhLCBwb3NpdGlvbiwgbGVuZ3RoKTsKICAgICAgcG9zaXRpb24gKz0gbGVuZ3RoOwoKICAgICAgY29uc3QgYmFzZTY0ID0gYnRvYShTdHJpbmcuZnJvbUNoYXJDb2RlLmFwcGx5KG51bGwsIGNodW5rKSk7CiAgICAgIHlpZWxkIHsKICAgICAgICByZXNwb25zZTogewogICAgICAgICAgYWN0aW9uOiAnYXBwZW5kJywKICAgICAgICAgIGZpbGU6IGZpbGUubmFtZSwKICAgICAgICAgIGRhdGE6IGJhc2U2NCwKICAgICAgICB9LAogICAgICB9OwoKICAgICAgbGV0IHBlcmNlbnREb25lID0gZmlsZURhdGEuYnl0ZUxlbmd0aCA9PT0gMCA/CiAgICAgICAgICAxMDAgOgogICAgICAgICAgTWF0aC5yb3VuZCgocG9zaXRpb24gLyBmaWxlRGF0YS5ieXRlTGVuZ3RoKSAqIDEwMCk7CiAgICAgIHBlcmNlbnQudGV4dENvbnRlbnQgPSBgJHtwZXJjZW50RG9uZX0lIGRvbmVgOwoKICAgIH0gd2hpbGUgKHBvc2l0aW9uIDwgZmlsZURhdGEuYnl0ZUxlbmd0aCk7CiAgfQoKICAvLyBBbGwgZG9uZS4KICB5aWVsZCB7CiAgICByZXNwb25zZTogewogICAgICBhY3Rpb246ICdjb21wbGV0ZScsCiAgICB9CiAgfTsKfQoKc2NvcGUuZ29vZ2xlID0gc2NvcGUuZ29vZ2xlIHx8IHt9OwpzY29wZS5nb29nbGUuY29sYWIgPSBzY29wZS5nb29nbGUuY29sYWIgfHwge307CnNjb3BlLmdvb2dsZS5jb2xhYi5fZmlsZXMgPSB7CiAgX3VwbG9hZEZpbGVzLAogIF91cGxvYWRGaWxlc0NvbnRpbnVlLAp9Owp9KShzZWxmKTsK",
              "ok": true,
              "headers": [
                [
                  "content-type",
                  "application/javascript"
                ]
              ],
              "status": 200,
              "status_text": ""
            }
          }
        },
        "outputId": "bcbae009-5b44-4c25-a720-7e5cc004fc74"
      },
      "source": [
        "from google.colab import files\n",
        "\n",
        "uploaded = files.upload()"
      ],
      "execution_count": 2,
      "outputs": [
        {
          "output_type": "display_data",
          "data": {
            "text/plain": [
              "<IPython.core.display.HTML object>"
            ],
            "text/html": [
              "\n",
              "     <input type=\"file\" id=\"files-93920064-de7b-4ac1-ac5b-e33ca5fa5abb\" name=\"files[]\" multiple disabled\n",
              "        style=\"border:none\" />\n",
              "     <output id=\"result-93920064-de7b-4ac1-ac5b-e33ca5fa5abb\">\n",
              "      Upload widget is only available when the cell has been executed in the\n",
              "      current browser session. Please rerun this cell to enable.\n",
              "      </output>\n",
              "      <script src=\"/nbextensions/google.colab/files.js\"></script> "
            ]
          },
          "metadata": {}
        },
        {
          "output_type": "stream",
          "name": "stdout",
          "text": [
            "Saving coin_Bitcoin.csv to coin_Bitcoin (2).csv\n"
          ]
        }
      ]
    },
    {
      "cell_type": "code",
      "metadata": {
        "id": "sFfSkRVgYkDL",
        "colab": {
          "base_uri": "https://localhost:8080/",
          "height": 455
        },
        "outputId": "f0043aa1-f63c-40c0-bc14-cd9225f596e2"
      },
      "source": [
        "bitcoin_market_info = pd.read_csv(\"coin_Bitcoin.csv\", index_col=0, parse_dates=['Date'])\n",
        "bitcoin_market_info = bitcoin_market_info.set_index('Date')\n",
        "\n",
        "bitcoin_market_info"
      ],
      "execution_count": 3,
      "outputs": [
        {
          "output_type": "execute_result",
          "data": {
            "text/plain": [
              "                        Name Symbol          High           Low          Open  \\\n",
              "Date                                                                            \n",
              "2013-04-29 23:59:59  Bitcoin    BTC    147.488007    134.000000    134.444000   \n",
              "2013-04-30 23:59:59  Bitcoin    BTC    146.929993    134.050003    144.000000   \n",
              "2013-05-01 23:59:59  Bitcoin    BTC    139.889999    107.720001    139.000000   \n",
              "2013-05-02 23:59:59  Bitcoin    BTC    125.599998     92.281898    116.379997   \n",
              "2013-05-03 23:59:59  Bitcoin    BTC    108.127998     79.099998    106.250000   \n",
              "...                      ...    ...           ...           ...           ...   \n",
              "2021-07-02 23:59:59  Bitcoin    BTC  33939.588699  32770.680780  33549.600177   \n",
              "2021-07-03 23:59:59  Bitcoin    BTC  34909.259899  33402.696536  33854.421362   \n",
              "2021-07-04 23:59:59  Bitcoin    BTC  35937.567147  34396.477458  34665.564866   \n",
              "2021-07-05 23:59:59  Bitcoin    BTC  35284.344430  33213.661034  35284.344430   \n",
              "2021-07-06 23:59:59  Bitcoin    BTC  35038.536363  33599.916169  33723.509655   \n",
              "\n",
              "                            Close        Volume     Marketcap  \n",
              "Date                                                           \n",
              "2013-04-29 23:59:59    144.539993  0.000000e+00  1.603769e+09  \n",
              "2013-04-30 23:59:59    139.000000  0.000000e+00  1.542813e+09  \n",
              "2013-05-01 23:59:59    116.989998  0.000000e+00  1.298955e+09  \n",
              "2013-05-02 23:59:59    105.209999  0.000000e+00  1.168517e+09  \n",
              "2013-05-03 23:59:59     97.750000  0.000000e+00  1.085995e+09  \n",
              "...                           ...           ...           ...  \n",
              "2021-07-02 23:59:59  33897.048590  3.872897e+10  6.354508e+11  \n",
              "2021-07-03 23:59:59  34668.548402  2.438396e+10  6.499397e+11  \n",
              "2021-07-04 23:59:59  35287.779766  2.492431e+10  6.615748e+11  \n",
              "2021-07-05 23:59:59  33746.002456  2.672155e+10  6.326962e+11  \n",
              "2021-07-06 23:59:59  34235.193451  2.650126e+10  6.418992e+11  \n",
              "\n",
              "[2991 rows x 8 columns]"
            ],
            "text/html": [
              "\n",
              "  <div id=\"df-0c087f56-e05b-4fd1-b297-8ea651100049\">\n",
              "    <div class=\"colab-df-container\">\n",
              "      <div>\n",
              "<style scoped>\n",
              "    .dataframe tbody tr th:only-of-type {\n",
              "        vertical-align: middle;\n",
              "    }\n",
              "\n",
              "    .dataframe tbody tr th {\n",
              "        vertical-align: top;\n",
              "    }\n",
              "\n",
              "    .dataframe thead th {\n",
              "        text-align: right;\n",
              "    }\n",
              "</style>\n",
              "<table border=\"1\" class=\"dataframe\">\n",
              "  <thead>\n",
              "    <tr style=\"text-align: right;\">\n",
              "      <th></th>\n",
              "      <th>Name</th>\n",
              "      <th>Symbol</th>\n",
              "      <th>High</th>\n",
              "      <th>Low</th>\n",
              "      <th>Open</th>\n",
              "      <th>Close</th>\n",
              "      <th>Volume</th>\n",
              "      <th>Marketcap</th>\n",
              "    </tr>\n",
              "    <tr>\n",
              "      <th>Date</th>\n",
              "      <th></th>\n",
              "      <th></th>\n",
              "      <th></th>\n",
              "      <th></th>\n",
              "      <th></th>\n",
              "      <th></th>\n",
              "      <th></th>\n",
              "      <th></th>\n",
              "    </tr>\n",
              "  </thead>\n",
              "  <tbody>\n",
              "    <tr>\n",
              "      <th>2013-04-29 23:59:59</th>\n",
              "      <td>Bitcoin</td>\n",
              "      <td>BTC</td>\n",
              "      <td>147.488007</td>\n",
              "      <td>134.000000</td>\n",
              "      <td>134.444000</td>\n",
              "      <td>144.539993</td>\n",
              "      <td>0.000000e+00</td>\n",
              "      <td>1.603769e+09</td>\n",
              "    </tr>\n",
              "    <tr>\n",
              "      <th>2013-04-30 23:59:59</th>\n",
              "      <td>Bitcoin</td>\n",
              "      <td>BTC</td>\n",
              "      <td>146.929993</td>\n",
              "      <td>134.050003</td>\n",
              "      <td>144.000000</td>\n",
              "      <td>139.000000</td>\n",
              "      <td>0.000000e+00</td>\n",
              "      <td>1.542813e+09</td>\n",
              "    </tr>\n",
              "    <tr>\n",
              "      <th>2013-05-01 23:59:59</th>\n",
              "      <td>Bitcoin</td>\n",
              "      <td>BTC</td>\n",
              "      <td>139.889999</td>\n",
              "      <td>107.720001</td>\n",
              "      <td>139.000000</td>\n",
              "      <td>116.989998</td>\n",
              "      <td>0.000000e+00</td>\n",
              "      <td>1.298955e+09</td>\n",
              "    </tr>\n",
              "    <tr>\n",
              "      <th>2013-05-02 23:59:59</th>\n",
              "      <td>Bitcoin</td>\n",
              "      <td>BTC</td>\n",
              "      <td>125.599998</td>\n",
              "      <td>92.281898</td>\n",
              "      <td>116.379997</td>\n",
              "      <td>105.209999</td>\n",
              "      <td>0.000000e+00</td>\n",
              "      <td>1.168517e+09</td>\n",
              "    </tr>\n",
              "    <tr>\n",
              "      <th>2013-05-03 23:59:59</th>\n",
              "      <td>Bitcoin</td>\n",
              "      <td>BTC</td>\n",
              "      <td>108.127998</td>\n",
              "      <td>79.099998</td>\n",
              "      <td>106.250000</td>\n",
              "      <td>97.750000</td>\n",
              "      <td>0.000000e+00</td>\n",
              "      <td>1.085995e+09</td>\n",
              "    </tr>\n",
              "    <tr>\n",
              "      <th>...</th>\n",
              "      <td>...</td>\n",
              "      <td>...</td>\n",
              "      <td>...</td>\n",
              "      <td>...</td>\n",
              "      <td>...</td>\n",
              "      <td>...</td>\n",
              "      <td>...</td>\n",
              "      <td>...</td>\n",
              "    </tr>\n",
              "    <tr>\n",
              "      <th>2021-07-02 23:59:59</th>\n",
              "      <td>Bitcoin</td>\n",
              "      <td>BTC</td>\n",
              "      <td>33939.588699</td>\n",
              "      <td>32770.680780</td>\n",
              "      <td>33549.600177</td>\n",
              "      <td>33897.048590</td>\n",
              "      <td>3.872897e+10</td>\n",
              "      <td>6.354508e+11</td>\n",
              "    </tr>\n",
              "    <tr>\n",
              "      <th>2021-07-03 23:59:59</th>\n",
              "      <td>Bitcoin</td>\n",
              "      <td>BTC</td>\n",
              "      <td>34909.259899</td>\n",
              "      <td>33402.696536</td>\n",
              "      <td>33854.421362</td>\n",
              "      <td>34668.548402</td>\n",
              "      <td>2.438396e+10</td>\n",
              "      <td>6.499397e+11</td>\n",
              "    </tr>\n",
              "    <tr>\n",
              "      <th>2021-07-04 23:59:59</th>\n",
              "      <td>Bitcoin</td>\n",
              "      <td>BTC</td>\n",
              "      <td>35937.567147</td>\n",
              "      <td>34396.477458</td>\n",
              "      <td>34665.564866</td>\n",
              "      <td>35287.779766</td>\n",
              "      <td>2.492431e+10</td>\n",
              "      <td>6.615748e+11</td>\n",
              "    </tr>\n",
              "    <tr>\n",
              "      <th>2021-07-05 23:59:59</th>\n",
              "      <td>Bitcoin</td>\n",
              "      <td>BTC</td>\n",
              "      <td>35284.344430</td>\n",
              "      <td>33213.661034</td>\n",
              "      <td>35284.344430</td>\n",
              "      <td>33746.002456</td>\n",
              "      <td>2.672155e+10</td>\n",
              "      <td>6.326962e+11</td>\n",
              "    </tr>\n",
              "    <tr>\n",
              "      <th>2021-07-06 23:59:59</th>\n",
              "      <td>Bitcoin</td>\n",
              "      <td>BTC</td>\n",
              "      <td>35038.536363</td>\n",
              "      <td>33599.916169</td>\n",
              "      <td>33723.509655</td>\n",
              "      <td>34235.193451</td>\n",
              "      <td>2.650126e+10</td>\n",
              "      <td>6.418992e+11</td>\n",
              "    </tr>\n",
              "  </tbody>\n",
              "</table>\n",
              "<p>2991 rows × 8 columns</p>\n",
              "</div>\n",
              "      <button class=\"colab-df-convert\" onclick=\"convertToInteractive('df-0c087f56-e05b-4fd1-b297-8ea651100049')\"\n",
              "              title=\"Convert this dataframe to an interactive table.\"\n",
              "              style=\"display:none;\">\n",
              "        \n",
              "  <svg xmlns=\"http://www.w3.org/2000/svg\" height=\"24px\"viewBox=\"0 0 24 24\"\n",
              "       width=\"24px\">\n",
              "    <path d=\"M0 0h24v24H0V0z\" fill=\"none\"/>\n",
              "    <path d=\"M18.56 5.44l.94 2.06.94-2.06 2.06-.94-2.06-.94-.94-2.06-.94 2.06-2.06.94zm-11 1L8.5 8.5l.94-2.06 2.06-.94-2.06-.94L8.5 2.5l-.94 2.06-2.06.94zm10 10l.94 2.06.94-2.06 2.06-.94-2.06-.94-.94-2.06-.94 2.06-2.06.94z\"/><path d=\"M17.41 7.96l-1.37-1.37c-.4-.4-.92-.59-1.43-.59-.52 0-1.04.2-1.43.59L10.3 9.45l-7.72 7.72c-.78.78-.78 2.05 0 2.83L4 21.41c.39.39.9.59 1.41.59.51 0 1.02-.2 1.41-.59l7.78-7.78 2.81-2.81c.8-.78.8-2.07 0-2.86zM5.41 20L4 18.59l7.72-7.72 1.47 1.35L5.41 20z\"/>\n",
              "  </svg>\n",
              "      </button>\n",
              "      \n",
              "  <style>\n",
              "    .colab-df-container {\n",
              "      display:flex;\n",
              "      flex-wrap:wrap;\n",
              "      gap: 12px;\n",
              "    }\n",
              "\n",
              "    .colab-df-convert {\n",
              "      background-color: #E8F0FE;\n",
              "      border: none;\n",
              "      border-radius: 50%;\n",
              "      cursor: pointer;\n",
              "      display: none;\n",
              "      fill: #1967D2;\n",
              "      height: 32px;\n",
              "      padding: 0 0 0 0;\n",
              "      width: 32px;\n",
              "    }\n",
              "\n",
              "    .colab-df-convert:hover {\n",
              "      background-color: #E2EBFA;\n",
              "      box-shadow: 0px 1px 2px rgba(60, 64, 67, 0.3), 0px 1px 3px 1px rgba(60, 64, 67, 0.15);\n",
              "      fill: #174EA6;\n",
              "    }\n",
              "\n",
              "    [theme=dark] .colab-df-convert {\n",
              "      background-color: #3B4455;\n",
              "      fill: #D2E3FC;\n",
              "    }\n",
              "\n",
              "    [theme=dark] .colab-df-convert:hover {\n",
              "      background-color: #434B5C;\n",
              "      box-shadow: 0px 1px 3px 1px rgba(0, 0, 0, 0.15);\n",
              "      filter: drop-shadow(0px 1px 2px rgba(0, 0, 0, 0.3));\n",
              "      fill: #FFFFFF;\n",
              "    }\n",
              "  </style>\n",
              "\n",
              "      <script>\n",
              "        const buttonEl =\n",
              "          document.querySelector('#df-0c087f56-e05b-4fd1-b297-8ea651100049 button.colab-df-convert');\n",
              "        buttonEl.style.display =\n",
              "          google.colab.kernel.accessAllowed ? 'block' : 'none';\n",
              "\n",
              "        async function convertToInteractive(key) {\n",
              "          const element = document.querySelector('#df-0c087f56-e05b-4fd1-b297-8ea651100049');\n",
              "          const dataTable =\n",
              "            await google.colab.kernel.invokeFunction('convertToInteractive',\n",
              "                                                     [key], {});\n",
              "          if (!dataTable) return;\n",
              "\n",
              "          const docLinkHtml = 'Like what you see? Visit the ' +\n",
              "            '<a target=\"_blank\" href=https://colab.research.google.com/notebooks/data_table.ipynb>data table notebook</a>'\n",
              "            + ' to learn more about interactive tables.';\n",
              "          element.innerHTML = '';\n",
              "          dataTable['output_type'] = 'display_data';\n",
              "          await google.colab.output.renderOutput(dataTable, element);\n",
              "          const docLink = document.createElement('div');\n",
              "          docLink.innerHTML = docLinkHtml;\n",
              "          element.appendChild(docLink);\n",
              "        }\n",
              "      </script>\n",
              "    </div>\n",
              "  </div>\n",
              "  "
            ]
          },
          "metadata": {},
          "execution_count": 3
        }
      ]
    },
    {
      "cell_type": "markdown",
      "metadata": {
        "id": "YH9E_yjjYkDN"
      },
      "source": [
        "Let's look at the history of the closing price in USD, which we will try to predict."
      ]
    },
    {
      "cell_type": "code",
      "metadata": {
        "pycharm": {
          "name": "#%%\n"
        },
        "id": "dE-lwd1hYkDN",
        "colab": {
          "base_uri": "https://localhost:8080/",
          "height": 302
        },
        "outputId": "fad837a7-f7e9-41ab-88b5-019bae8f5e19"
      },
      "source": [
        "bitcoin_market_info['Close'].plot(title='Bitcoin',\n",
        "                                  xlabel='Date',\n",
        "                                  ylabel='Closing Price ($)')"
      ],
      "execution_count": 4,
      "outputs": [
        {
          "output_type": "execute_result",
          "data": {
            "text/plain": [
              "<matplotlib.axes._subplots.AxesSubplot at 0x7fecc9755710>"
            ]
          },
          "metadata": {},
          "execution_count": 4
        },
        {
          "output_type": "display_data",
          "data": {
            "text/plain": [
              "<Figure size 432x288 with 1 Axes>"
            ],
            "image/png": "[encoded data removed]"
          },
          "metadata": {
            "needs_background": "light"
          }
        }
      ]
    },
    {
      "cell_type": "markdown",
      "metadata": {
        "id": "ZJU2KoesYkDP"
      },
      "source": [
        "We split the dataset into a training period (before January 1, 2020), and a test period (after January 1, 2020)."
      ]
    },
    {
      "cell_type": "code",
      "metadata": {
        "pycharm": {
          "name": "#%%\n"
        },
        "id": "QG1K00q9YkDP",
        "colab": {
          "base_uri": "https://localhost:8080/",
          "height": 297
        },
        "outputId": "a6da45c2-afb5-4fd6-8eaa-adc49bb65370"
      },
      "source": [
        "split_date = '2020-01-01'\n",
        "\n",
        "plt.plot(bitcoin_market_info.index[bitcoin_market_info.index.values < np.datetime64(split_date)],\n",
        "         bitcoin_market_info['Close'][bitcoin_market_info.index.values < np.datetime64(split_date)],\n",
        "         color='#B08FC7', label='Training')\n",
        "plt.plot(bitcoin_market_info.index[bitcoin_market_info.index.values >= np.datetime64(split_date)],\n",
        "         bitcoin_market_info['Close'][bitcoin_market_info.index.values >= np.datetime64(split_date)],\n",
        "         color='#8FBAC8', label='Test')\n",
        "\n",
        "plt.ylabel('Bitcoin Price ($)',fontsize=12)\n",
        "plt.xticks(rotation=45)\n",
        "plt.tight_layout()\n",
        "plt.legend(bbox_to_anchor=(0.03, 0.9), loc=2, borderaxespad=0., prop={'size': 14})\n",
        "plt.show()"
      ],
      "execution_count": 5,
      "outputs": [
        {
          "output_type": "display_data",
          "data": {
            "text/plain": [
              "<Figure size 432x288 with 1 Axes>"
            ],
            "image/png": "[encoded data removed]"
          },
          "metadata": {
            "needs_background": "light"
          }
        }
      ]
    },
    {
      "cell_type": "code",
      "metadata": {
        "pycharm": {
          "name": "#%%\n"
        },
        "id": "WyVge0v1YkDQ"
      },
      "source": [
        "train_ds = bitcoin_market_info[bitcoin_market_info.index < split_date]\n",
        "test_ds = bitcoin_market_info[bitcoin_market_info.index >= split_date]"
      ],
      "execution_count": 6,
      "outputs": []
    },
    {
      "cell_type": "markdown",
      "metadata": {
        "id": "V_kgTtZtYkDR"
      },
      "source": [
        "## Persistence model\n",
        "\n",
        "Before implementing a complicated machine learning model, we will use a very basic model as a first benchmark. To keep it as simple as possible, we will look at a model which simply sets tomorrow's price equal to today's price. This is called a persistence forecast.\n",
        "\n",
        "Of course, there is a large variety of classical time series models available, some of which you may have encountered in your statistics lectures."
      ]
    },
    {
      "cell_type": "code",
      "metadata": {
        "pycharm": {
          "name": "#%%\n"
        },
        "scrolled": true,
        "id": "WeaQpGT9YkDS",
        "colab": {
          "base_uri": "https://localhost:8080/",
          "height": 390
        },
        "outputId": "52484ecd-8d74-4a00-d3bb-7e323178a257"
      },
      "source": [
        "plt.figure(figsize=(12, 6))\n",
        "\n",
        "plt.plot(test_ds.index,\n",
        "         test_ds['Close'],\n",
        "         label='Actual')\n",
        "plt.plot(test_ds.index[1:],\n",
        "         test_ds['Close'].iloc[:-1],\n",
        "         label='Predicted')\n",
        "\n",
        "plt.ylabel('Bitcoin Price ($)',fontsize=12)\n",
        "plt.legend(bbox_to_anchor=(0.01, 0.2), loc=2, borderaxespad=0., prop={'size': 14})\n",
        "plt.title('Simple Lag Model (Test Set)')\n",
        "plt.annotate('MAE: %.4f'%mean_absolute_error(test_ds['Close'].iloc[1:].values, test_ds['Close'].iloc[:-1].values),\n",
        "             xy=(0.75, 0.9),  xycoords='axes fraction',\n",
        "            xytext=(0.5, 0.9), textcoords='axes fraction')\n",
        "\n",
        "plt.show()"
      ],
      "execution_count": 7,
      "outputs": [
        {
          "output_type": "display_data",
          "data": {
            "text/plain": [
              "<Figure size 864x432 with 1 Axes>"
            ],
            "image/png": "[encoded data removed]"
          },
          "metadata": {
            "needs_background": "light"
          }
        }
      ]
    },
    {
      "cell_type": "markdown",
      "metadata": {
        "id": "h_vMPkMHYkDT"
      },
      "source": [
        "## Long Short Term Memory (LSTM)\n",
        "\n",
        "Next, we will build an LSTM model to predict future prices. Note that generally, the use of LSTM-type models is questionable for autoregressive-type problems (https://machinelearningmastery.com/suitability-long-short-term-memory-networks-time-series-forecasting/), but the main purpose of this exercise is to learn more about LSTMs, not to find the best possible model for Bitcoin prices.\n",
        "\n",
        "First, we will modify our data to obtain (hopefully) better results. We only use the past history of the closing price, and remove all other columns.\n",
        "\n",
        "A promising approach to obtain better results might be to use more columns or engineering additional columns."
      ]
    },
    {
      "cell_type": "code",
      "metadata": {
        "id": "SAs1wvcrYkDT"
      },
      "source": [
        "LSTM_training_inputs = train_ds['Close']\n",
        "LSTM_test_inputs = test_ds['Close']"
      ],
      "execution_count": 8,
      "outputs": []
    },
    {
      "cell_type": "code",
      "metadata": {
        "id": "QbOWdfwnYkDU",
        "colab": {
          "base_uri": "https://localhost:8080/"
        },
        "outputId": "8d62fe80-3348-4cae-8ac7-1abb3c975e5c"
      },
      "source": [
        "LSTM_training_inputs.head()"
      ],
      "execution_count": 9,
      "outputs": [
        {
          "output_type": "execute_result",
          "data": {
            "text/plain": [
              "Date\n",
              "2013-04-29 23:59:59    144.539993\n",
              "2013-04-30 23:59:59    139.000000\n",
              "2013-05-01 23:59:59    116.989998\n",
              "2013-05-02 23:59:59    105.209999\n",
              "2013-05-03 23:59:59     97.750000\n",
              "Name: Close, dtype: float64"
            ]
          },
          "metadata": {},
          "execution_count": 9
        }
      ]
    },
    {
      "cell_type": "code",
      "metadata": {
        "id": "_ojgrdIKYkDU"
      },
      "source": [
        "ds_train = np.array(LSTM_training_inputs)\n",
        "ds_test = np.array(LSTM_test_inputs)"
      ],
      "execution_count": 10,
      "outputs": []
    },
    {
      "cell_type": "code",
      "metadata": {
        "id": "gxQbJGBAYkDV",
        "colab": {
          "base_uri": "https://localhost:8080/"
        },
        "outputId": "50ad7d02-112b-4dd0-c14f-08e9fa7416b5"
      },
      "source": [
        "ds_train"
      ],
      "execution_count": 11,
      "outputs": [
        {
          "output_type": "execute_result",
          "data": {
            "text/plain": [
              "array([ 144.53999329,  139.        ,  116.98999786, ..., 7422.65258898,\n",
              "       7292.99507783, 7193.59897843])"
            ]
          },
          "metadata": {},
          "execution_count": 11
        }
      ]
    },
    {
      "cell_type": "markdown",
      "metadata": {
        "id": "Le3U3nr4YkDV"
      },
      "source": [
        "Since we saw that the Bitcoin price as varied a lot over time, we normalize the input data. To make our life easy, we use the `MinMaxScaler` from scikitlearn. We convert the original dataframe into a numpy array to simplify data handling a bit, in particular the reshaping required for the `MinMaxScaler`."
      ]
    },
    {
      "cell_type": "code",
      "metadata": {
        "id": "I6uzKj1LYkDW"
      },
      "source": [
        "from sklearn.preprocessing import MinMaxScaler"
      ],
      "execution_count": 12,
      "outputs": []
    },
    {
      "cell_type": "code",
      "metadata": {
        "id": "yBm7SATBYkDW"
      },
      "source": [
        "scaler = MinMaxScaler(feature_range=(0, 1))\n",
        "dataset_train = scaler.fit_transform(ds_train.reshape(-1,1))"
      ],
      "execution_count": 13,
      "outputs": []
    },
    {
      "cell_type": "code",
      "metadata": {
        "id": "P37GM09WYkDX",
        "colab": {
          "base_uri": "https://localhost:8080/"
        },
        "outputId": "b740df0b-8edc-47df-f341-cf6d7d488514"
      },
      "source": [
        "dataset_train[:10]"
      ],
      "execution_count": 14,
      "outputs": [
        {
          "output_type": "execute_result",
          "data": {
            "text/plain": [
              "array([[0.00391729],\n",
              "       [0.00363215],\n",
              "       [0.00249931],\n",
              "       [0.001893  ],\n",
              "       [0.00150904],\n",
              "       [0.00226821],\n",
              "       [0.00244372],\n",
              "       [0.00225792],\n",
              "       [0.00221674],\n",
              "       [0.00232308]])"
            ]
          },
          "metadata": {},
          "execution_count": 14
        }
      ]
    },
    {
      "cell_type": "markdown",
      "metadata": {
        "id": "6z_LkQQBYkDX"
      },
      "source": [
        "We can see that the values now are arranged on a scale from 0 to 1. We apply the same transformation to the test data. \n",
        "\n",
        "Note that we specifically use the `scaler` that was fit on the training data to avoid information from the test set \"leaking\" into the model training. "
      ]
    },
    {
      "cell_type": "code",
      "metadata": {
        "id": "K1sli3LuYkDX",
        "colab": {
          "base_uri": "https://localhost:8080/"
        },
        "outputId": "49214e51-f6e1-482e-a670-81029c18cd2b"
      },
      "source": [
        "ds_test = np.array(LSTM_test_inputs)\n",
        "dataset_test = scaler.transform(ds_test.reshape(-1,1))\n",
        "dataset_test[:10]"
      ],
      "execution_count": 15,
      "outputs": [
        {
          "output_type": "execute_result",
          "data": {
            "text/plain": [
              "array([[0.36706751],\n",
              "       [0.35601677],\n",
              "       [0.37451565],\n",
              "       [0.37790093],\n",
              "       [0.37793494],\n",
              "       [0.39635597],\n",
              "       [0.41665932],\n",
              "       [0.41234466],\n",
              "       [0.40201003],\n",
              "       [0.41680662]])"
            ]
          },
          "metadata": {},
          "execution_count": 15
        }
      ]
    },
    {
      "cell_type": "markdown",
      "metadata": {
        "id": "VFlh7uxiYkDY"
      },
      "source": [
        "The LSTM model uses previous data to predict the next day's closing price. We must decide how many days it will have access to. Lets chose a \"look-back\" window of 25 time steps (= days) for now (other window lengths might lead to better results).\n",
        "\n",
        "For model training, we create data frames where each consists of 25 consecutive days."
      ]
    },
    {
      "cell_type": "code",
      "metadata": {
        "id": "y5sQ6mkhYkDY"
      },
      "source": [
        "window_len = 25"
      ],
      "execution_count": 16,
      "outputs": []
    },
    {
      "cell_type": "code",
      "metadata": {
        "pycharm": {
          "name": "#%%\n"
        },
        "id": "8lUiXHnKYkDY"
      },
      "source": [
        "LSTM_training_inputs = []\n",
        "for i in range(len(dataset_train) - window_len):\n",
        "    temp_set = dataset_train[i:(i+window_len)].copy()\n",
        "    LSTM_training_inputs.append(temp_set)\n",
        "\n",
        "LSTM_test_inputs = []\n",
        "for i in range(len(dataset_test) - window_len):\n",
        "    temp_set = dataset_test[i:(i+window_len)].copy()\n",
        "    LSTM_test_inputs.append(temp_set)"
      ],
      "execution_count": 17,
      "outputs": []
    },
    {
      "cell_type": "code",
      "metadata": {
        "id": "m6RRVHOEYkDZ",
        "colab": {
          "base_uri": "https://localhost:8080/"
        },
        "outputId": "b279bc13-df8a-43b9-feac-9e93c7d96187"
      },
      "source": [
        "LSTM_training_inputs[0]"
      ],
      "execution_count": 18,
      "outputs": [
        {
          "output_type": "execute_result",
          "data": {
            "text/plain": [
              "array([[0.00391729],\n",
              "       [0.00363215],\n",
              "       [0.00249931],\n",
              "       [0.001893  ],\n",
              "       [0.00150904],\n",
              "       [0.00226821],\n",
              "       [0.00244372],\n",
              "       [0.00225792],\n",
              "       [0.00221674],\n",
              "       [0.00232308],\n",
              "       [0.00227696],\n",
              "       [0.00251012],\n",
              "       [0.00240939],\n",
              "       [0.00239688],\n",
              "       [0.00255026],\n",
              "       [0.00221674],\n",
              "       [0.00235674],\n",
              "       [0.00259041],\n",
              "       [0.00280941],\n",
              "       [0.00283427],\n",
              "       [0.00275666],\n",
              "       [0.00275717],\n",
              "       [0.00280246],\n",
              "       [0.0028544 ],\n",
              "       [0.00299908]])"
            ]
          },
          "metadata": {},
          "execution_count": 18
        }
      ]
    },
    {
      "cell_type": "markdown",
      "metadata": {
        "id": "wd5zByRmYkDZ"
      },
      "source": [
        "We transform the list into an array to make it easier to interpret for us (and the LSTM model later on)."
      ]
    },
    {
      "cell_type": "code",
      "metadata": {
        "id": "XZBH_AUaYkDZ"
      },
      "source": [
        "LSTM_training_inputs = [np.array(LSTM_training_input) for LSTM_training_input in LSTM_training_inputs]\n",
        "LSTM_training_inputs = np.array(LSTM_training_inputs)\n",
        "\n",
        "LSTM_test_inputs = [np.array(LSTM_test_inputs) for LSTM_test_inputs in LSTM_test_inputs]\n",
        "LSTM_test_inputs = np.array(LSTM_test_inputs)"
      ],
      "execution_count": 19,
      "outputs": []
    },
    {
      "cell_type": "code",
      "metadata": {
        "id": "2oW2OTFGYkDa",
        "colab": {
          "base_uri": "https://localhost:8080/"
        },
        "outputId": "0bd0f121-f12f-491d-a1cd-5bbe4e08b418"
      },
      "source": [
        "LSTM_training_inputs.shape"
      ],
      "execution_count": 20,
      "outputs": [
        {
          "output_type": "execute_result",
          "data": {
            "text/plain": [
              "(2413, 25, 1)"
            ]
          },
          "metadata": {},
          "execution_count": 20
        }
      ]
    },
    {
      "cell_type": "code",
      "metadata": {
        "id": "CILbPF1MYkDa",
        "colab": {
          "base_uri": "https://localhost:8080/"
        },
        "outputId": "edbb31b0-6db6-4a40-fd02-e502d324465b"
      },
      "source": [
        "LSTM_test_inputs.shape"
      ],
      "execution_count": 21,
      "outputs": [
        {
          "output_type": "execute_result",
          "data": {
            "text/plain": [
              "(528, 25, 1)"
            ]
          },
          "metadata": {},
          "execution_count": 21
        }
      ]
    },
    {
      "cell_type": "markdown",
      "metadata": {
        "id": "Px7zaQpwYkDa"
      },
      "source": [
        "We will now use Keras functionalities to build an LSTM model. For illustrative purposes, we will consider yet another way to set up a Keras model.\n",
        "\n",
        "The `build_model` function constructs an empty model, to which an LSTM layer is added. That layer has been shaped to fit our inputs (n x m, where n and m represent the number of timepoints/rows and columns, respectively). \n",
        "The function also includes more generic neural network features, like the activation function(s). \n",
        "\n",
        "Now, we just need to specify the parameters of the LSTM layer (i.e., the number of \"units\" to place in the LSTM layer). Note that the terminology is somewhat confusing here (\"units\" =  dimensionality of the hidden state of the LSTM cell, the h_t in the slides), see https://keras.io/api/layers/recurrent_layers/lstm/ and https://stats.stackexchange.com/questions/241985/understanding-lstm-units-vs-cells).\n",
        "\n",
        "To read more on LSTMs and other RNN layers in Keras, see https://keras.io/guides/working_with_rnns/. "
      ]
    },
    {
      "cell_type": "code",
      "metadata": {
        "id": "hQNhDWXwYkDb"
      },
      "source": [
        "def build_model(inputs, output_size, units, activ_func=\"linear\", loss=\"mae\", optimizer=\"adam\"):\n",
        "    model = Sequential()\n",
        "\n",
        "    model.add(LSTM(units, input_shape=(inputs.shape[1], inputs.shape[2]), return_sequences=False))\n",
        "    model.add(Dense(output_size))\n",
        "    model.add(Activation(activ_func))\n",
        "    model.compile(loss=loss, optimizer=optimizer)\n",
        "    return model"
      ],
      "execution_count": 33,
      "outputs": []
    },
    {
      "cell_type": "code",
      "metadata": {
        "id": "FbKIYj7fYkDb"
      },
      "source": [
        "# We could also add multiple LSTM layers by setting return_sequences=True. \n",
        "# Note that this changes the shape of the model output and will require to adjust the predictions below.\n",
        "# (you may try prediction = prediction[:,0,:])\n",
        "\n",
        "#def build_model(inputs, output_size, units, activ_func=\"linear\", dropout_rate=0.25, loss=\"mae\", optimizer=\"adam\"):\n",
        "#     model = Sequential()\n",
        "#     model.add(LSTM(units, input_shape=(inputs.shape[1], inputs.shape[2]), return_sequences=True, dropout=dropout_rate))\n",
        "#     # model.add(Dropout(dropout)) # --> that's not how you should use dropout in LSTMs!\n",
        "#     model.add(LSTM(units=50, return_sequences=True, dropout=dropout_rate))\n",
        "#     model.add(LSTM(units=50, dropout=dropout_rate))\n",
        "#     model.add(Dense(units=100))\n",
        "#     model.add(Activation(activ_func))\n",
        "#     model.add(Dense(units=output_size))\n",
        "#     model.add(Activation(activ_func))\n",
        "#     model.compile(loss=loss, optimizer=optimizer)\n",
        "#     return model"
      ],
      "execution_count": 23,
      "outputs": []
    },
    {
      "cell_type": "code",
      "metadata": {
        "pycharm": {
          "name": "#%%\n"
        },
        "id": "2tWNXf_bYkDb"
      },
      "source": [
        "# initialise model architecture\n",
        "model = build_model(LSTM_training_inputs, output_size=1, units = 100)"
      ],
      "execution_count": 39,
      "outputs": []
    },
    {
      "cell_type": "code",
      "metadata": {
        "id": "Kh0RD-DqYkDb",
        "colab": {
          "base_uri": "https://localhost:8080/"
        },
        "outputId": "c5cc4f40-748e-4392-8007-90dba547c2d4"
      },
      "source": [
        "model.summary()"
      ],
      "execution_count": 40,
      "outputs": [
        {
          "output_type": "stream",
          "name": "stdout",
          "text": [
            "Model: \"sequential_3\"\n",
            "_________________________________________________________________\n",
            " Layer (type)                Output Shape              Param #   \n",
            "=================================================================\n",
            " lstm_3 (LSTM)               (None, 100)               40800     \n",
            "                                                                 \n",
            " dense_3 (Dense)             (None, 1)                 101       \n",
            "                                                                 \n",
            " activation_3 (Activation)   (None, 1)                 0         \n",
            "                                                                 \n",
            "=================================================================\n",
            "Total params: 40,901\n",
            "Trainable params: 40,901\n",
            "Non-trainable params: 0\n",
            "_________________________________________________________________\n"
          ]
        }
      ]
    },
    {
      "cell_type": "markdown",
      "metadata": {
        "id": "yf9FVTGsYkDb"
      },
      "source": [
        "Next, we need to construct the target outputs corresponding to the training data. As before, we extract the relevant data, and normalize it using the `MinMaxScaler`."
      ]
    },
    {
      "cell_type": "code",
      "metadata": {
        "id": "PJb_cGT-YkDc",
        "colab": {
          "base_uri": "https://localhost:8080/"
        },
        "outputId": "a239a710-9bd5-4718-8c3e-691a03ba54c4"
      },
      "source": [
        "LSTM_training_outputs = train_ds['Close'][window_len:].values\n",
        "LSTM_training_outputs = np.array(LSTM_training_outputs)\n",
        "LSTM_training_outputs = scaler.transform(LSTM_training_outputs.reshape(-1,1))\n",
        "LSTM_training_outputs = LSTM_training_outputs.flatten()\n",
        "LSTM_training_outputs.shape"
      ],
      "execution_count": 41,
      "outputs": [
        {
          "output_type": "execute_result",
          "data": {
            "text/plain": [
              "(2413,)"
            ]
          },
          "metadata": {},
          "execution_count": 41
        }
      ]
    },
    {
      "cell_type": "markdown",
      "metadata": {
        "id": "WMZJi3rHYkDc"
      },
      "source": [
        "We can now fit our model. Note that the `shuffle=True` argument only effects the order in which the training sequences are shown to the network, not the order of values within the sequences."
      ]
    },
    {
      "cell_type": "code",
      "metadata": {
        "id": "oICvdqVzYkDc",
        "colab": {
          "base_uri": "https://localhost:8080/"
        },
        "outputId": "9d6172de-4570-4015-c328-396faddb3954"
      },
      "source": [
        "history = model.fit(LSTM_training_inputs, LSTM_training_outputs,\n",
        "                    epochs=15, \n",
        "                    batch_size=1, \n",
        "                    verbose=1, \n",
        "                    shuffle=True)"
      ],
      "execution_count": 42,
      "outputs": [
        {
          "output_type": "stream",
          "name": "stdout",
          "text": [
            "Epoch 1/15\n",
            "2413/2413 [==============================] - 26s 10ms/step - loss: 0.0142\n",
            "Epoch 2/15\n",
            "2413/2413 [==============================] - 24s 10ms/step - loss: 0.0096\n",
            "Epoch 3/15\n",
            "2413/2413 [==============================] - 24s 10ms/step - loss: 0.0084\n",
            "Epoch 4/15\n",
            "2413/2413 [==============================] - 24s 10ms/step - loss: 0.0078\n",
            "Epoch 5/15\n",
            "2413/2413 [==============================] - 24s 10ms/step - loss: 0.0077\n",
            "Epoch 6/15\n",
            "2413/2413 [==============================] - 24s 10ms/step - loss: 0.0073\n",
            "Epoch 7/15\n",
            "2413/2413 [==============================] - 24s 10ms/step - loss: 0.0072\n",
            "Epoch 8/15\n",
            "2413/2413 [==============================] - 24s 10ms/step - loss: 0.0071\n",
            "Epoch 9/15\n",
            "2413/2413 [==============================] - 24s 10ms/step - loss: 0.0070\n",
            "Epoch 10/15\n",
            "2413/2413 [==============================] - 24s 10ms/step - loss: 0.0067\n",
            "Epoch 11/15\n",
            "2413/2413 [==============================] - 24s 10ms/step - loss: 0.0068\n",
            "Epoch 12/15\n",
            "2413/2413 [==============================] - 24s 10ms/step - loss: 0.0068\n",
            "Epoch 13/15\n",
            "2413/2413 [==============================] - 24s 10ms/step - loss: 0.0068\n",
            "Epoch 14/15\n",
            "2413/2413 [==============================] - 24s 10ms/step - loss: 0.0068\n",
            "Epoch 15/15\n",
            "2413/2413 [==============================] - 24s 10ms/step - loss: 0.0065\n"
          ]
        }
      ]
    },
    {
      "cell_type": "markdown",
      "metadata": {
        "id": "SQYvp0y5YkDd"
      },
      "source": [
        "With the fitted model, we can now make predictions on the test set."
      ]
    },
    {
      "cell_type": "code",
      "metadata": {
        "id": "jzKryLMlYkDd",
        "colab": {
          "base_uri": "https://localhost:8080/"
        },
        "outputId": "00d14768-5b30-4836-c152-151a113ed924"
      },
      "source": [
        "prediction = model.predict(LSTM_test_inputs)\n",
        "prediction.shape"
      ],
      "execution_count": 43,
      "outputs": [
        {
          "output_type": "execute_result",
          "data": {
            "text/plain": [
              "(528, 1)"
            ]
          },
          "metadata": {},
          "execution_count": 43
        }
      ]
    },
    {
      "cell_type": "code",
      "metadata": {
        "scrolled": false,
        "id": "YhZigRaMYkDd",
        "colab": {
          "base_uri": "https://localhost:8080/"
        },
        "outputId": "034b9f7a-712f-4853-e88b-bcb781e23944"
      },
      "source": [
        "prediction[:10]"
      ],
      "execution_count": 44,
      "outputs": [
        {
          "output_type": "execute_result",
          "data": {
            "text/plain": [
              "array([[0.43324414],\n",
              "       [0.44497988],\n",
              "       [0.46099162],\n",
              "       [0.48427367],\n",
              "       [0.4825578 ],\n",
              "       [0.49296117],\n",
              "       [0.48480028],\n",
              "       [0.4871292 ],\n",
              "       [0.48434818],\n",
              "       [0.481762  ]], dtype=float32)"
            ]
          },
          "metadata": {},
          "execution_count": 44
        }
      ]
    },
    {
      "cell_type": "markdown",
      "metadata": {
        "id": "h03ICiSMYkDd"
      },
      "source": [
        "Before evaluating the predictions on the test data, we need to transform the data back to the original scale by inverting the transformation we applied to normalize the data. "
      ]
    },
    {
      "cell_type": "code",
      "metadata": {
        "id": "85nMfzrOYkDe"
      },
      "source": [
        "prediction = scaler.inverse_transform(prediction.reshape(-1,1))"
      ],
      "execution_count": 45,
      "outputs": []
    },
    {
      "cell_type": "code",
      "metadata": {
        "id": "mptZt1bdYkDf",
        "colab": {
          "base_uri": "https://localhost:8080/"
        },
        "outputId": "37f0fe84-c12c-4e57-e5b9-58dfb7399b11"
      },
      "source": [
        "prediction[:10]"
      ],
      "execution_count": 46,
      "outputs": [
        {
          "output_type": "execute_result",
          "data": {
            "text/plain": [
              "array([[8485.918],\n",
              "       [8713.931],\n",
              "       [9025.022],\n",
              "       [9477.369],\n",
              "       [9444.031],\n",
              "       [9646.158],\n",
              "       [9487.601],\n",
              "       [9532.85 ],\n",
              "       [9478.816],\n",
              "       [9428.569]], dtype=float32)"
            ]
          },
          "metadata": {},
          "execution_count": 46
        }
      ]
    },
    {
      "cell_type": "markdown",
      "metadata": {
        "id": "X-THhCh8YkDf"
      },
      "source": [
        "Finally, let's plot the data and look at the results. Keep in mind that the simple persistence model lead to an MAE of below 1000."
      ]
    },
    {
      "cell_type": "code",
      "metadata": {
        "pycharm": {
          "name": "#%%\n"
        },
        "id": "t0BiF7-nYkDf",
        "colab": {
          "base_uri": "https://localhost:8080/",
          "height": 374
        },
        "outputId": "8d7a8a3c-1a72-49d1-9e4e-5763ba753da0"
      },
      "source": [
        "plt.figure(figsize=(12, 6))\n",
        "\n",
        "plt.plot(test_ds.iloc[window_len:].index, test_ds.iloc[window_len:]['Close'],\n",
        "         label='Actual')\n",
        "plt.plot(test_ds.iloc[window_len:].index, prediction,\n",
        "         label='Predicted')\n",
        "plt.legend(bbox_to_anchor=(0.01, 0.2), loc=2, borderaxespad=0., prop={'size': 14})\n",
        "\n",
        "plt.annotate('MAE: %.4f'%mean_absolute_error(test_ds['Close'].iloc[window_len:].values,prediction),\n",
        "             xy=(0.75, 0.9),  xycoords='axes fraction',\n",
        "             xytext=(0.5, 0.9), textcoords='axes fraction')\n",
        "\n",
        "plt.show()"
      ],
      "execution_count": 47,
      "outputs": [
        {
          "output_type": "display_data",
          "data": {
            "text/plain": [
              "<Figure size 864x432 with 1 Axes>"
            ],
            "image/png": "[encoded data removed]"
          },
          "metadata": {
            "needs_background": "light"
          }
        }
      ]
    },
    {
      "cell_type": "markdown",
      "metadata": {
        "id": "6cxrrLBZYkDg"
      },
      "source": [
        "We can see that our LSTM model didn't do a particularly good job. The results will vary quite a bit depending on the randomness in the estimation procedure, but outperforming the simple persistence model is already very challenging. \n",
        "\n",
        "One particular problem seems to be to correctly capture the unprecedented magnitude of values in 2021. Perhaps the min-max normalization based on the training dataset was not the best choice here."
      ]
    },
    {
      "cell_type": "markdown",
      "metadata": {
        "id": "9At29mxwYkDg"
      },
      "source": [
        "## Your turn\n",
        "\n",
        "- As before, try to replicate the steps above by building a persistence benchmark and an LSTM model for the Bitcoin data.\n",
        "- Try to improve the LSTM model by experimenting with tuning parameters, in particular adapting the model architecture and the window for estimation might change the results. You can also apply techniques learned in past notebooks such as learning rate decay or regularization. \n",
        "- You may also try different RNN cell types such as GRUs, you can read more here: https://keras.io/guides/working_with_rnns/\n",
        "\n",
        "Further, you can extend the model(s) from above:\n",
        "- Try to use multiple input features: We only used the history of the closing price, but there are more variables in the dataset and you may think about engineering new ones, for example some that take the volatility into account.\n",
        "- Try to predict sequences: We focused on predicting the value of the next day only. In principle, it is possible to also predict sequences, see https://keras.io/examples/nlp/lstm_seq2seq/ as a starting point for further reading.\n",
        "- You could also try to fit LSTM models for other cryptocurrencies, or multiple ones at once. Data for Ethereum is available on BW Sync&Share, data for even more different cryptocurrencies is available at the Kaggle link from above.\n",
        "- The current dataset ends in July 2021. You can obtain a newer version from the Kaggle competition linkes above and investigate how the models worked in the more recent history.\n",
        "- In principle, it would also be possible to re-train the model in a sliding window over time to adjust to recent changes in the data. However, this typically comes at a tremendous increas in computational costs.\n",
        "- If you are generally interested in time series forecasting using deep learning models, you can also take a look at the GluonTS library (https://ts.gluon.ai/)."
      ]
    },
    {
      "cell_type": "code",
      "metadata": {
        "id": "02ZFtR_XbOA-"
      },
      "source": [],
      "execution_count": 32,
      "outputs": []
    }
  ]
}